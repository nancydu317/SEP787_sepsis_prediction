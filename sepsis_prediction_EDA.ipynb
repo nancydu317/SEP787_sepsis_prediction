{
 "cells": [
  {
   "cell_type": "markdown",
   "metadata": {},
   "source": [
    "## SEP 787 Machine Learning: Classification Models\n",
    "## Prediction Sepsis from U.S. Hospital EHR Clinical Data\n",
    "### Group 9"
   ]
  },
  {
   "cell_type": "code",
   "execution_count": 1,
   "metadata": {},
   "outputs": [],
   "source": [
    "# import python packages\n",
    "import numpy as np\n",
    "import pandas as pd\n",
    "import matplotlib.pyplot as plt\n",
    "import seaborn as sns"
   ]
  },
  {
   "cell_type": "markdown",
   "metadata": {},
   "source": [
    "The original dataset is exceeds the GitHub file size limit of 100MB. Thus the code below first splits the csv file into two files.  \n",
    "*  data_hospital1.csv contains the observations from Hospital 1, where patient IDs are 6 digits in length. This will be the __training__ set\n",
    "*  data_hospital2.csv contains the observations from Hospital 2, where patient IDS are not 6 digits in length. This will be the __testing__ set."
   ]
  },
  {
   "cell_type": "code",
   "execution_count": 2,
   "metadata": {},
   "outputs": [],
   "source": [
    "# import data and split into train set (Hospital 1) and test set (Hospital 2)\n",
    "\n",
    "# df_combined = pd.read_csv(r\"C:\\Users\\nancy\\Documents\\University\\eHealth\\SEP787_Classification\\Project2\\Dataset.csv\")\n",
    "\n",
    "# rows_to_drop = df_combined.loc[df_combined['Patient_ID'].apply(lambda x: len(str(x)) == 6)]\n",
    "# df_train = df_combined.drop(rows_to_drop.index)\n",
    "# df_train.to_csv('data_hospital1.csv', index=False)\n",
    "\n",
    "# rows_to_drop = df_combined.loc[df_combined['Patient_ID'].apply(lambda x: len(str(x)) != 6)]\n",
    "# df_test = df_combined.drop(rows_to_drop.index)\n",
    "# df_test.to_csv('data_hospital2.csv', index=False)"
   ]
  },
  {
   "cell_type": "code",
   "execution_count": 6,
   "metadata": {},
   "outputs": [],
   "source": [
    "# importing the test and training data\n",
    "\n",
    "df_train = pd.read_csv(r\"data_hospital1.csv\")\n",
    "df_test = pd.read_csv(r\"data_hospital2.csv\")"
   ]
  },
  {
   "cell_type": "code",
   "execution_count": null,
   "metadata": {},
   "outputs": [],
   "source": []
  }
 ],
 "metadata": {
  "kernelspec": {
   "display_name": "Python 3 (ipykernel)",
   "language": "python",
   "name": "python3"
  },
  "language_info": {
   "codemirror_mode": {
    "name": "ipython",
    "version": 3
   },
   "file_extension": ".py",
   "mimetype": "text/x-python",
   "name": "python",
   "nbconvert_exporter": "python",
   "pygments_lexer": "ipython3",
   "version": "3.11.4"
  }
 },
 "nbformat": 4,
 "nbformat_minor": 2
}
